{
 "cells": [
  {
   "cell_type": "markdown",
   "metadata": {
    "deletable": false,
    "editable": false,
    "nbgrader": {
     "cell_type": "markdown",
     "checksum": "af49ee39e38340e4bd135f5135fb2392",
     "grade": false,
     "grade_id": "cell-451c719a982d9fe3",
     "locked": true,
     "schema_version": 3,
     "solution": false,
     "task": false
    }
   },
   "source": [
    "# Homework Assignment 4: Complex Numbers and the Mandelbrot Set\n",
    "\n",
    "## Objected Oriented Programming\n",
    "\n",
    "One of the main reasons why we code, or at least want to learn how to do so, is to automate routine tasks. Object-oriented programming is a method of structuring a program by bundling related properties and behaviors into individual **objects**. For example, an object could represent a person with **properties** like a name, age and address, and **behaviors** such as walking, talking, breathing, and running. Or in the example we will be considering later, an object could represent a complex number with properties like its real part, its imaginary part and behaviors like addition, multiplication, and conversion to polar coordinates. In this notebook we will introduce the basics of object-oriented programming in Python with the aim to implement the previously mentioned example of complex numbers. \n",
    "\n",
    "### Define a Class in Python\n",
    "\n",
    "Primitive data structures - like numbers, strings and lists - are designed to represent simple pieces of information, such as the cost of an apple, your name, or your groceries, respectively. What if you want to represent something more complex. For example, let's say you want to track employees of an organization. You need to store some basic information about each employee, such as their name, age, position, and the year they started working. One way to do this is to represent each employee as an instance of a class. \n",
    "\n",
    "#### Classes vs Instances\n",
    "\n",
    "Classes are used to create user-defined data structures. Classes define functions called **methods**, which identify the behaviors and actions that an object created from the class can perform with its data. A class is a blueprint for how something should be defined. \n",
    "\n",
    "We will start by creating a `Dog` class that stores some information about the characteristics and behaviors that an individual dog can have. The class itself doesn't actually contain any data. The `Dog` class will specify that a name and an age are necessary for defining a dog, but it doesn't contain the name or age of any specific dog.\n",
    "\n",
    "While the class is the blueprint, an **instance** is an object that is built from a class and contains real data. An instance of the `Dog` class is not a blueprint anymore. It's an actual dog name, like Pluto, who's four years old.\n",
    "\n",
    "Put another way, a class is like a form or questionnaire. An instance is like a form that has been filled out with information. Just like many people can fill out the same form with their own unique information, many instances can be created from a single class. \n",
    "\n",
    "#### How to define a class\n",
    "\n",
    "All class definitions start with the `class` keyword, which is followed by the name of the class and a colon. Any code that is indented below the class definition is considered part of the class's body. See the example below.\n",
    "\n",
    "There are a number of properties that we can choose from for out Dog class, including name, age, coat color, and breed. To keep things simple, we'll just use name and age. The properties that all `Dog` objects must have are defined in a method called `__init__`. Every time a new `Dog` object is created, `__init__` sets the initial state of the object by assigning the values of the object's properties. This is, `__init__` initializes each new instance of the class.\n",
    "\n",
    "You can give `__init__` any number of parameters, but the first parameter will always be a variable called `self`. When a new class instance is created, the instance is automatically passed to the `self` parameter in `__init__` so that new attributes can be defined on the object. For our `Dog` class with attributes `name` and `age` the code looks as follows."
   ]
  },
  {
   "cell_type": "code",
   "execution_count": null,
   "metadata": {},
   "outputs": [],
   "source": [
    "class Dog:\n",
    "    def __init__(self, name, age):\n",
    "        self.name = name\n",
    "        self.age = age"
   ]
  },
  {
   "cell_type": "markdown",
   "metadata": {
    "deletable": false,
    "editable": false,
    "nbgrader": {
     "cell_type": "markdown",
     "checksum": "6a1ad6f6f3af11cb2cd7ccdd74627585",
     "grade": false,
     "grade_id": "cell-7f4b216ad87e4d69",
     "locked": true,
     "schema_version": 3,
     "solution": false,
     "task": false
    }
   },
   "source": [
    "In the body of `__init__`, there are two statements using the `self` variable:\n",
    "1. `self.name = name` creates an attribute called `name` and assigns to it the value of the `name` parameter.\n",
    "2. `self.age = age` creates an attribute called `age` and assigns to it the value of the `age` parameter.\n",
    "\n",
    "Attributes in the `__init__` are called instance attributes. An instance attribute's value is specific to a particular instance of the class. All `Dog` objects have a name and an age, but the values for the `name` and `age` attributes will vary depending on the `Dog` instance. \n",
    "\n",
    "On the other hand, class attributes are attributes that have the same value for all class instances. You can define a class attribute by assigning a value to a variable name outside of `__init__`. For example, the following `Dog` class has a class attribute `species` with the value \"Canis familiaris\"."
   ]
  },
  {
   "cell_type": "code",
   "execution_count": null,
   "metadata": {},
   "outputs": [],
   "source": [
    "class Dog:\n",
    "    # Class attribute\n",
    "    species = \"Canis familiaris\"\n",
    "    \n",
    "    def __init__(self, name, age):\n",
    "        # Instance attributes\n",
    "        self.name = name\n",
    "        self.age = age"
   ]
  },
  {
   "cell_type": "markdown",
   "metadata": {
    "deletable": false,
    "editable": false,
    "nbgrader": {
     "cell_type": "markdown",
     "checksum": "b63d984240ad592a34a8e94433275e1c",
     "grade": false,
     "grade_id": "cell-8ee822402919cde1",
     "locked": true,
     "schema_version": 3,
     "solution": false,
     "task": false
    }
   },
   "source": [
    "### Instantiate an object\n",
    "\n",
    "Creating a new object from a class is called **instantiating** an object. You can instantiate a new `Dog` object, you need to provide values for the `name` and `age` between parentheses after the class name: "
   ]
  },
  {
   "cell_type": "code",
   "execution_count": null,
   "metadata": {},
   "outputs": [],
   "source": [
    "pluto = Dog(\"Pluto\", 4)\n",
    "scooby = Dog(\"Scooby\", 9)"
   ]
  },
  {
   "cell_type": "markdown",
   "metadata": {
    "deletable": false,
    "editable": false,
    "nbgrader": {
     "cell_type": "markdown",
     "checksum": "b46434ef33e55c2b94aa02c0de8237b5",
     "grade": false,
     "grade_id": "cell-95da7d26f5691c68",
     "locked": true,
     "schema_version": 3,
     "solution": false,
     "task": false
    }
   },
   "source": [
    "This creates two new `Dog` instances; one for a 4 year old dog named Pluto and one for a nine year old dog named Scooby. Now you might observe that the `Dog` class's `__init__` method has three paramters, so why only provide two arguments? When you instantiate a `Dog` object, Python creates a new instance and passes it to the first parameter of `__init__`. This essentially removes the `self` parameter, so you only need to worry about the `name` and `age` parameters.\n",
    "\n",
    "After you create a `Dog` instance, you can access their class and instance attributes using **dot notation**:"
   ]
  },
  {
   "cell_type": "code",
   "execution_count": null,
   "metadata": {},
   "outputs": [],
   "source": [
    "print(pluto.name)\n",
    "print(pluto.age)\n",
    "print(pluto.species)\n",
    "print(scooby.name)\n",
    "print(scooby.age)\n",
    "print(scooby.species)"
   ]
  },
  {
   "cell_type": "markdown",
   "metadata": {
    "deletable": false,
    "editable": false,
    "nbgrader": {
     "cell_type": "markdown",
     "checksum": "6b538f77a57aaf34d4a94f9ad63647f2",
     "grade": false,
     "grade_id": "cell-9a38e989f2cc914d",
     "locked": true,
     "schema_version": 3,
     "solution": false,
     "task": false
    }
   },
   "source": [
    "Values of attributes can be changed dynamically:"
   ]
  },
  {
   "cell_type": "code",
   "execution_count": null,
   "metadata": {},
   "outputs": [],
   "source": [
    "pluto.age = 10\n",
    "print(pluto.age)\n",
    "\n",
    "scooby.species = \"Felis silvestris\"\n",
    "print(scooby.species)"
   ]
  },
  {
   "cell_type": "markdown",
   "metadata": {
    "deletable": false,
    "editable": false,
    "nbgrader": {
     "cell_type": "markdown",
     "checksum": "789aa2a5cea738523e65205761576c0e",
     "grade": false,
     "grade_id": "cell-c2d04839a6f5321b",
     "locked": true,
     "schema_version": 3,
     "solution": false,
     "task": false
    }
   },
   "source": [
    "### Instance methods\n",
    "\n",
    "**Instance methods** are functions that are defined inside a class and can only be called from an instance of that class. Just like `__init__`, an instance method's first parameter is always `self`. "
   ]
  },
  {
   "cell_type": "code",
   "execution_count": null,
   "metadata": {},
   "outputs": [],
   "source": [
    "class Dog:\n",
    "    species = \"Canis familiaris\"\n",
    "    \n",
    "    def __init__(self, name, age):\n",
    "        self.name = name\n",
    "        self.age = age\n",
    "        \n",
    "    def description(self):\n",
    "        return(\"%s is %d years old\" % (self.name, self.age))\n",
    "    \n",
    "    def speak(self, sound):\n",
    "        return(\"%s says: %s\" % (self.name, sound))"
   ]
  },
  {
   "cell_type": "markdown",
   "metadata": {
    "deletable": false,
    "editable": false,
    "nbgrader": {
     "cell_type": "markdown",
     "checksum": "f9e3df761d2c097bfa56b585ed3c412a",
     "grade": false,
     "grade_id": "cell-0774f4128d5456ba",
     "locked": true,
     "schema_version": 3,
     "solution": false,
     "task": false
    }
   },
   "source": [
    "This `Dog` class has two instance methods:\n",
    "1. `description` returns a string displaying the name and age of the dog.\n",
    "2. `speak` has one parameter called `sound` and returns a string containing the dog's name and the sound the dog makes.\n",
    "\n",
    "Let's see these instance methods in action:"
   ]
  },
  {
   "cell_type": "code",
   "execution_count": null,
   "metadata": {},
   "outputs": [],
   "source": [
    "pluto = Dog(\"pluto\", 4)\n",
    "print(pluto.description())\n",
    "print(pluto.speak(\"Woof Woof\"))\n",
    "print(pluto.speak(\"Kef Kef\"))"
   ]
  },
  {
   "cell_type": "markdown",
   "metadata": {
    "deletable": false,
    "editable": false,
    "nbgrader": {
     "cell_type": "markdown",
     "checksum": "ca3ec69d4f6e23b682b68c83a28feff6",
     "grade": false,
     "grade_id": "cell-398cc15e4e0836c2",
     "locked": true,
     "schema_version": 3,
     "solution": false,
     "task": false
    }
   },
   "source": [
    "In the example, `description` returns a string containing information about the `Dog` instance `pluto`. When writing your own classes, it's a good idea to have a method that returns a string containing useful information about an instance of the class. However, `description` is not the most Pythonic way of doing this.\n",
    "\n",
    "When you create a list object, you can use `print` to display a string that looks like the list:"
   ]
  },
  {
   "cell_type": "code",
   "execution_count": null,
   "metadata": {},
   "outputs": [],
   "source": [
    "names = [\"Pluto\", \"Scooby\", \"Snoopy\"]\n",
    "print(names)"
   ]
  },
  {
   "cell_type": "markdown",
   "metadata": {
    "deletable": false,
    "editable": false,
    "nbgrader": {
     "cell_type": "markdown",
     "checksum": "cd29c6730cfdecdfc35e674a1b5c59e5",
     "grade": false,
     "grade_id": "cell-4f293b8827363d3b",
     "locked": true,
     "schema_version": 3,
     "solution": false,
     "task": false
    }
   },
   "source": [
    "Let's see what happens when you `print()` the `pluto` object:"
   ]
  },
  {
   "cell_type": "code",
   "execution_count": null,
   "metadata": {},
   "outputs": [],
   "source": [
    "print(pluto)"
   ]
  },
  {
   "cell_type": "markdown",
   "metadata": {
    "deletable": false,
    "editable": false,
    "nbgrader": {
     "cell_type": "markdown",
     "checksum": "4c28c384cdddb5e0fe7b0840dc32ec37",
     "grade": false,
     "grade_id": "cell-3b84487654bd8ab1",
     "locked": true,
     "schema_version": 3,
     "solution": false,
     "task": false
    }
   },
   "source": [
    "When you `print(pluto)` you get a cryptic looking message telling you that `pluto` is a `Dog` object at some memory address `0x00000143B9127310`. This message isn't very helpful. You can change what gets printed by defining a special instance method called `__str__`.  "
   ]
  },
  {
   "cell_type": "code",
   "execution_count": null,
   "metadata": {},
   "outputs": [],
   "source": [
    "class Dog:\n",
    "    species = \"Canis familiaris\"\n",
    "    \n",
    "    def __init__(self, name, age):\n",
    "        self.name = name\n",
    "        self.age = age\n",
    "        \n",
    "    def __str__(self):\n",
    "        return(\"%s is %d years old\" % (self.name, self.age))\n",
    "    \n",
    "    def speak(self, sound):\n",
    "        return(\"%s says: %s\" % (self.name, sound))"
   ]
  },
  {
   "cell_type": "markdown",
   "metadata": {
    "deletable": false,
    "editable": false,
    "nbgrader": {
     "cell_type": "markdown",
     "checksum": "7bbdf7daed0353ec97f2572654d94337",
     "grade": false,
     "grade_id": "cell-3ccf6d4b363c3551",
     "locked": true,
     "schema_version": 3,
     "solution": false,
     "task": false
    }
   },
   "source": [
    "Now when you `print(pluto)` you get a much friendlier output:"
   ]
  },
  {
   "cell_type": "code",
   "execution_count": null,
   "metadata": {},
   "outputs": [],
   "source": [
    "pluto = Dog(\"Pluto\", 4)\n",
    "print(pluto)"
   ]
  },
  {
   "cell_type": "markdown",
   "metadata": {
    "deletable": false,
    "editable": false,
    "nbgrader": {
     "cell_type": "markdown",
     "checksum": "30500bbb18158d152421c4b81872ba45",
     "grade": false,
     "grade_id": "cell-a1af8a72dc78e380",
     "locked": true,
     "schema_version": 3,
     "solution": false,
     "task": false
    }
   },
   "source": [
    "Methods like `__init__` and `__str__` are called **dunder methods** because they begin and end with double underscores. There are many dunder methods that you can use to customize classes in Python, and we will discuss a few to illustrate some points.\n",
    "\n",
    "Suppose we want to compare two dogs in terms of their age. With real numbers we would use the inequality sign to do something like:"
   ]
  },
  {
   "cell_type": "code",
   "execution_count": null,
   "metadata": {},
   "outputs": [],
   "source": [
    "5 > 4"
   ]
  },
  {
   "cell_type": "markdown",
   "metadata": {
    "deletable": false,
    "editable": false,
    "nbgrader": {
     "cell_type": "markdown",
     "checksum": "ba63e82c084155c669dc4b0b4638a94d",
     "grade": false,
     "grade_id": "cell-1a55caf2148ef31e",
     "locked": true,
     "schema_version": 3,
     "solution": false,
     "task": false
    }
   },
   "source": [
    "We can use the greater than dunder method `__gt__` (greater than) to relate two dog objects and to check whether one is older than the other:"
   ]
  },
  {
   "cell_type": "code",
   "execution_count": null,
   "metadata": {},
   "outputs": [],
   "source": [
    "class Dog:\n",
    "    species = \"Canis familiaris\"\n",
    "    \n",
    "    def __init__(self, name, age):\n",
    "        self.name = name\n",
    "        self.age = age\n",
    "        \n",
    "    def __str__(self):\n",
    "        return(\"%s is %d years old\" % (self.name, self.age))\n",
    "    \n",
    "    def __gt__(self, other):\n",
    "        if (self.age > other.age):\n",
    "            return True\n",
    "        else:\n",
    "            return False\n",
    "    \n",
    "    def speak(self, sound):\n",
    "        return(\"%s says: %s\" % (self.name, sound))"
   ]
  },
  {
   "cell_type": "markdown",
   "metadata": {
    "deletable": false,
    "editable": false,
    "nbgrader": {
     "cell_type": "markdown",
     "checksum": "230f1adf2c5e2792189423a224b1a739",
     "grade": false,
     "grade_id": "cell-02d7d0c5f63e3a84",
     "locked": true,
     "schema_version": 3,
     "solution": false,
     "task": false
    }
   },
   "source": [
    "The method `__gt__` takes two arguments:\n",
    "1. `self` to refer to a dog object on the left-hand side of the inequality sign;\n",
    "2. `other` to refer to a dog object on the right-hand side of the inequality sign.\n",
    "\n",
    "If the age of the dog on the left-hand side of the > sign is strictly larger than the age of the dog on the right-hand side, the method returns the boolean `True`, and otherwise it returns `False`. "
   ]
  },
  {
   "cell_type": "code",
   "execution_count": null,
   "metadata": {},
   "outputs": [],
   "source": [
    "pluto = Dog(\"Pluto\", 4)\n",
    "scooby = Dog(\"Scooby\", 9)\n",
    "pluto > scooby"
   ]
  },
  {
   "cell_type": "markdown",
   "metadata": {
    "deletable": false,
    "editable": false,
    "nbgrader": {
     "cell_type": "markdown",
     "checksum": "919fde010fb2c803c8aa8aa48dcfdd07",
     "grade": false,
     "grade_id": "cell-bd36d7abf83aba69",
     "locked": true,
     "schema_version": 3,
     "solution": false,
     "task": false
    }
   },
   "source": [
    "Another example (purely for illustration purposes) is to represent reproduction by multiplication. Two dogs can reproduce to create a new dog, whose name will be the concatination of the first three letters of one parent and the last two letters of the other parent. We can assign this to the multiplication operator `*` or `__mul__`: "
   ]
  },
  {
   "cell_type": "code",
   "execution_count": null,
   "metadata": {},
   "outputs": [],
   "source": [
    "class Dog:\n",
    "    species = \"Canis familiaris\"\n",
    "    \n",
    "    def __init__(self, name, age):\n",
    "        self.name = name\n",
    "        self.age = age\n",
    "        \n",
    "    def __str__(self):\n",
    "        return(\"%s is %d years old\" % (self.name, self.age))\n",
    "    \n",
    "    def __gt__(self, other):\n",
    "        if (self.age > other.age):\n",
    "            return True\n",
    "        else:\n",
    "            return False\n",
    "        \n",
    "    def __mul__(self, other):\n",
    "        child_name = self.name[0:3] + other.name[-2:]\n",
    "        child_age = 0\n",
    "        return Dog(child_name, child_age)\n",
    "        \n",
    "    def speak(self, sound):\n",
    "        return(\"%s says: %s\" % (self.name, sound))"
   ]
  },
  {
   "cell_type": "markdown",
   "metadata": {
    "deletable": false,
    "editable": false,
    "nbgrader": {
     "cell_type": "markdown",
     "checksum": "deabf919adc155964bea0d76b9021469",
     "grade": false,
     "grade_id": "cell-e2452f21d6afb14a",
     "locked": true,
     "schema_version": 3,
     "solution": false,
     "task": false
    }
   },
   "source": [
    "Note that `__mul__` now returns a `Dog` instance. "
   ]
  },
  {
   "cell_type": "code",
   "execution_count": null,
   "metadata": {},
   "outputs": [],
   "source": [
    "pluto = Dog(\"Pluto\", 4)\n",
    "scooby = Dog(\"Scooby\", 9)\n",
    "child = pluto*scooby\n",
    "print(child)\n",
    "print(child.speak(\"Woof\"))"
   ]
  },
  {
   "cell_type": "markdown",
   "metadata": {
    "deletable": false,
    "editable": false,
    "nbgrader": {
     "cell_type": "markdown",
     "checksum": "c270117e31c778440a0beab3e38ff3da",
     "grade": false,
     "grade_id": "cell-fb40b4a0bbfea7aa",
     "locked": true,
     "schema_version": 3,
     "solution": false,
     "task": false
    }
   },
   "source": [
    "In the exercise below you will encounter many more dunder methods, see https://docs.python.org/3/reference/datamodel.html#special-method-names"
   ]
  },
  {
   "cell_type": "markdown",
   "metadata": {
    "deletable": false,
    "editable": false,
    "nbgrader": {
     "cell_type": "markdown",
     "checksum": "6c9467f1c48bd9d6924433b6bc59c2e1",
     "grade": false,
     "grade_id": "cell-cfc5e593189c2cde",
     "locked": true,
     "schema_version": 3,
     "solution": false,
     "task": false
    }
   },
   "source": [
    "## Problem 1: Complex Numbers Class (6 points, 0.5 points per correct method)\n",
    "\n",
    "Implement the class `Complex` representing complex numbers. It should satisfy the following specifications: \n",
    "* It should contain two instance attributes:\n",
    "    * `real` for the real part of the complex number\n",
    "    * `imag` for the imaginary part of the complex number. \n",
    "* It should contain the methods:\n",
    "    * `__init__` for initializing a new instance of a complex number. See more specifications below. \n",
    "    * `__str__` for representing a complex number. See more specifications below.\n",
    "    * `__add__` for adding two complex numbers.\n",
    "    * `__sub__` for subtracting two complex numbers.\n",
    "    * `__neg__` for negating a complex number.\n",
    "    * `conjugate` for computing the conjugate of a complex number.\n",
    "    * `__mul__` for multiplying two complex numbers.\n",
    "    * `__truediv__` for dividing two complex numbers.\n",
    "    * `__eq__` for checking if two complex numbers are equal.\n",
    "    * `__ne__` for checking if two complex numbers are not equal.\n",
    "    * `__abs__` for computing the absolute value of a complex number.\n",
    "    * `phase` for computing the principal value of the argument of a complex number. (see math.atan2)\n",
    "    * `polar` for computing the polar coordinates of a complex number. \n",
    "* If only a single parameter is provided to instantiate an object of the `Complex` class, we assume this number is used to represent a real number (i.e. Complex(5) should be the same as Complex(5, 0)). So by default the imaginary part should be zero. \n",
    "* The `__str__` method returns `a + bi` as a string with the following conventions:\n",
    "    * If b = 0, simply return a. (Instead of a + 0i)\n",
    "    * If b = 1 or b = -1, simply return a + i or a - i. (Instead of a + 1i or a - 1i)\n",
    "    * If b is negative, return a - bi such that b is positive. Example: it should return 2 - 3i instead of 2 + -3i. \n",
    "    * If a = 0, return bi. In case b is also negative, return -bi, where b is positive (no spaces). Example: it should return -3i instead of 0 - 3i. "
   ]
  },
  {
   "cell_type": "code",
   "execution_count": null,
   "metadata": {
    "deletable": false,
    "nbgrader": {
     "cell_type": "code",
     "checksum": "ead03c9e245505d13f6ce6e6a5a76fbc",
     "grade": false,
     "grade_id": "cell-d2ecc0d0c5c53885",
     "locked": false,
     "schema_version": 3,
     "solution": true,
     "task": false
    }
   },
   "outputs": [],
   "source": [
    "import math\n",
    "\n",
    "class Complex:\n",
    "    \"\"\"\n",
    "    A class used to represent complex numbers.\n",
    "        \n",
    "    Attributes\n",
    "    ----------\n",
    "        real (float): the real part of the complex number\n",
    "        imag (float): the imaginary part of the complex number (by default 0)\n",
    "    \n",
    "    \n",
    "    Methods\n",
    "    -------\n",
    "        __init__(self, real, imag=0): Ininitialize a Complex number object, instantiating the\n",
    "            attributes real and imag. \n",
    "        \n",
    "        __str__(self): Returns a string that represent the complex number, see problem statement.\n",
    "        \n",
    "        __add__(self, other): Returns a Complex number that is the sum of the complex\n",
    "            numbers self and other.\n",
    "            \n",
    "        __sub__(self, other): Returns a Complex number that is the difference of the complex\n",
    "            numbers self and other.\n",
    "            \n",
    "        __neg__(self): Returns a Complex number that is the negation of the complex number self.\n",
    "        \n",
    "        conjugate(self): Returns a Complex number that is the complex conjugate of self.\n",
    "        \n",
    "        __mul__(self, other): Returns a Complex number that is the product of self and other.\n",
    "        \n",
    "        __truediv__(self, other): Return a Complex number that is the quotient of self and other.\n",
    "        \n",
    "        __eq__(self, other): Returns a boolean that is True if self and other are equal, i.e.\n",
    "            have equal real and equal imaginary part.\n",
    "            \n",
    "        __ne__(self, other): Returns a boolean that is True if self and other are not equal.\n",
    "        \n",
    "        __abs__(self): Returns the length/norm/absolute value of the complex number self.\n",
    "        \n",
    "        phase(self): Returns the angle between -pi and pi of the complex number self.\n",
    "        \n",
    "        polar(self): Returns the tuple (r, theta), which are the absolute value and phase\n",
    "            of the complex number self. \n",
    "    \n",
    "    \"\"\"\n",
    "    \n",
    "    # YOUR CODE HERE\n",
    "    raise NotImplementedError()"
   ]
  },
  {
   "cell_type": "code",
   "execution_count": null,
   "metadata": {},
   "outputs": [],
   "source": [
    "# You can use this code cell to play around with your code to make sure\n",
    "# it does what it is intended to do, i.e. to debug your code. \n"
   ]
  },
  {
   "cell_type": "markdown",
   "metadata": {
    "deletable": false,
    "editable": false,
    "nbgrader": {
     "cell_type": "markdown",
     "checksum": "844d6a64461f74f1929c14ca32750b23",
     "grade": false,
     "grade_id": "cell-7ffd5514a8a884d7",
     "locked": true,
     "schema_version": 3,
     "solution": false,
     "task": false
    }
   },
   "source": [
    "### Test cases"
   ]
  },
  {
   "cell_type": "code",
   "execution_count": null,
   "metadata": {},
   "outputs": [],
   "source": [
    "# Instantiate four complex numbers\n",
    "z1 = Complex(1,2)\n",
    "z2 = Complex(3, -1)\n",
    "z3 = Complex(5)\n",
    "z4 = Complex(0, -4)\n",
    "\n",
    "# Correct attributes\n",
    "print(\"Re(z1) =\", z1.real, \"  Im(z1) = \", z1.imag)\n",
    "print(\"Re(z3) =\", z3.real, \"  Im(z3) = \", z3.imag, \"\\n\")\n",
    "\n",
    "# Printing complex numbers\n",
    "print(\"z1 =\", z1)\n",
    "print(\"z2 =\", z2)\n",
    "print(\"z3 =\", z3)\n",
    "print(\"z4 =\", z4, \"\\n\")\n",
    "\n",
    "# Adding two complex numbers\n",
    "print(\"z1 + z2 =\", z1 + z2)\n",
    "print(\"z3 + z4 =\", z3 + z4, \"\\n\")\n",
    "\n",
    "# Subtracting two complex numbers\n",
    "print(\"z1 - z2 =\", z1 - z2)\n",
    "print(\"z3 - z4 =\", z3 - z4, \"\\n\")\n",
    "\n",
    "# Negating a complex number\n",
    "print(\"-z2 =\", -z2)\n",
    "print(\"-z4 =\", -z4, \"\\n\")"
   ]
  },
  {
   "cell_type": "markdown",
   "metadata": {
    "deletable": false,
    "editable": false,
    "nbgrader": {
     "cell_type": "markdown",
     "checksum": "257d82424587a68be92bb0c7fead8d7e",
     "grade": false,
     "grade_id": "cell-77e8d443324b15a4",
     "locked": true,
     "schema_version": 3,
     "solution": false,
     "task": false
    }
   },
   "source": [
    "Expected output:\n",
    "\n",
    "    Re(z1) = 1   Im(z1) =  2\n",
    "    Re(z3) = 5   Im(z3) =  0 \n",
    "\n",
    "    z1 = 1 + 2i\n",
    "    z2 = 3 - i\n",
    "    z3 = 5\n",
    "    z4 = -4i \n",
    "\n",
    "    z1 + z2 = 4 + i\n",
    "    z3 + z4 = 5 - 4i \n",
    "\n",
    "    z1 - z2 = -2 + 3i\n",
    "    z3 - z4 = 5 + 4i \n",
    "\n",
    "    -z2 = -3 + i\n",
    "    -z4 = 4i "
   ]
  },
  {
   "cell_type": "code",
   "execution_count": null,
   "metadata": {},
   "outputs": [],
   "source": [
    "# Complex conjugate\n",
    "print(\"conjugate(z1) =\", z1.conjugate())\n",
    "print(\"conjugate(z3) =\", z3.conjugate())\n",
    "print(\"conjugate(z4) =\", z4.conjugate(), \"\\n\")\n",
    "\n",
    "# Multiplying two complex numbers\n",
    "print(\"z1 * z2 =\", z1 * z2)\n",
    "print(\"z3 * z4 =\", z3 * z4, \"\\n\")\n",
    "\n",
    "# Dividing two complex numbers\n",
    "print(\"z1 / z2 =\", z1 / z2)\n",
    "print(\"z3 / z4 =\", z3 / z4, \"\\n\")\n",
    "\n",
    "# Checking for equality\n",
    "print(z1 == z1)\n",
    "print(z1 == z2, \"\\n\")\n",
    "\n",
    "# Checking for inequality\n",
    "print(z1 != z1)\n",
    "print(z1 != z2, \"\\n\")"
   ]
  },
  {
   "cell_type": "markdown",
   "metadata": {
    "deletable": false,
    "editable": false,
    "nbgrader": {
     "cell_type": "markdown",
     "checksum": "7ef9db7a0129e6dfedc3019279a97264",
     "grade": false,
     "grade_id": "cell-91dbdbc195be8457",
     "locked": true,
     "schema_version": 3,
     "solution": false,
     "task": false
    }
   },
   "source": [
    "Expected output:\n",
    "\n",
    "    conjugate(z1) = 1 - 2i\n",
    "    conjugate(z3) = 5\n",
    "    conjugate(z4) = 4i \n",
    "\n",
    "    z1 * z2 = 5 + 5i\n",
    "    z3 * z4 = -20i \n",
    "\n",
    "    z1 / z2 = 0.1 + 0.7i\n",
    "    z3 / z4 = 1.25i \n",
    "\n",
    "    True\n",
    "    False \n",
    "\n",
    "    False\n",
    "    True "
   ]
  },
  {
   "cell_type": "code",
   "execution_count": null,
   "metadata": {},
   "outputs": [],
   "source": [
    "# Absolute value of a complex number\n",
    "print(\"|z1| =\", abs(z1))\n",
    "print(\"|z2| =\", abs(z2))\n",
    "print(\"|z3| =\", abs(z3), \"\\n\")\n",
    "\n",
    "# Phase / argument of a complex number\n",
    "print(\"arg(z1) =\", z1.phase())\n",
    "print(\"arg(z2) =\", z2.phase())\n",
    "print(\"arg(z3) =\", z3.phase())\n",
    "print(\"arg(z4) =\", z4.phase(), \"\\n\")\n",
    "\n",
    "# Polar coordinates\n",
    "print(\"(r, theta) = \", z1.polar())\n",
    "print(\"(r, theta) = \", z2.polar())"
   ]
  },
  {
   "cell_type": "markdown",
   "metadata": {
    "deletable": false,
    "editable": false,
    "nbgrader": {
     "cell_type": "markdown",
     "checksum": "949b2e62cab180565a84352a1e1026ab",
     "grade": false,
     "grade_id": "cell-2a78c8840250cba2",
     "locked": true,
     "schema_version": 3,
     "solution": false,
     "task": false
    }
   },
   "source": [
    "Expected output:\n",
    "\n",
    "    |z1| = 2.23606797749979\n",
    "    |z2| = 3.1622776601683795\n",
    "    |z3| = 5.0 \n",
    "\n",
    "    arg(z1) = 1.1071487177940904\n",
    "    arg(z2) = -0.3217505543966422\n",
    "    arg(z3) = 0.0\n",
    "    arg(z4) = -1.5707963267948966 \n",
    "\n",
    "    (r, theta) =  (2.23606797749979, 1.1071487177940904)\n",
    "    (r, theta) =  (3.1622776601683795, -0.3217505543966422)"
   ]
  },
  {
   "cell_type": "code",
   "execution_count": null,
   "metadata": {
    "deletable": false,
    "editable": false,
    "nbgrader": {
     "cell_type": "code",
     "checksum": "358bf98164b75169f735f47d635fd616",
     "grade": true,
     "grade_id": "cell-772ca90a8f7b0ded",
     "locked": true,
     "points": 0.5,
     "schema_version": 3,
     "solution": false,
     "task": false
    }
   },
   "outputs": [],
   "source": [
    "# AUTOGRADING INSTANTIATING\n",
    "z1 = Complex(1,2)\n",
    "z2 = Complex(3, -1)\n",
    "z3 = Complex(5)\n",
    "z4 = Complex(0, -4)\n",
    "\n",
    "assert z1.real == 1 and z1.imag == 2\n",
    "assert z3.real == 5 and z3.imag == 0"
   ]
  },
  {
   "cell_type": "code",
   "execution_count": null,
   "metadata": {
    "deletable": false,
    "editable": false,
    "nbgrader": {
     "cell_type": "code",
     "checksum": "3b9c33e7249d3833ac0165e3554b9b73",
     "grade": true,
     "grade_id": "cell-6126d4ad256b017f",
     "locked": true,
     "points": 0.5,
     "schema_version": 3,
     "solution": false,
     "task": false
    }
   },
   "outputs": [],
   "source": [
    "# AUTOGRADING STRING PRINTING\n",
    "assert str(z1) == \"1 + 2i\"\n",
    "assert str(z2) == \"3 - i\"\n",
    "assert str(z3) == \"5\"\n",
    "assert str(z4) == \"-4i\""
   ]
  },
  {
   "cell_type": "code",
   "execution_count": null,
   "metadata": {
    "deletable": false,
    "editable": false,
    "nbgrader": {
     "cell_type": "code",
     "checksum": "81e624cf3dc7ec88148a8351788f0e7f",
     "grade": true,
     "grade_id": "cell-836ecde346df22e8",
     "locked": true,
     "points": 0.5,
     "schema_version": 3,
     "solution": false,
     "task": false
    }
   },
   "outputs": [],
   "source": [
    "# AUTOGRADING ADDITION\n",
    "w = z1 + z2\n",
    "v = z3 + z4\n",
    "assert w.real == 4 and w.imag == 1\n",
    "assert v.real == 5 and v.imag == -4"
   ]
  },
  {
   "cell_type": "code",
   "execution_count": null,
   "metadata": {
    "deletable": false,
    "editable": false,
    "nbgrader": {
     "cell_type": "code",
     "checksum": "f519eaa3c94d91fc16afbce077a52481",
     "grade": true,
     "grade_id": "cell-e1eeaf0beea84bea",
     "locked": true,
     "points": 0.5,
     "schema_version": 3,
     "solution": false,
     "task": false
    }
   },
   "outputs": [],
   "source": [
    "# AUTOGRADING SUBTRACTION\n",
    "w = z1 - z2\n",
    "v = z3 - z4\n",
    "assert w.real == -2 and w.imag == 3\n",
    "assert v.real == 5 and v.imag == 4"
   ]
  },
  {
   "cell_type": "code",
   "execution_count": null,
   "metadata": {
    "deletable": false,
    "editable": false,
    "nbgrader": {
     "cell_type": "code",
     "checksum": "a4e1ad88a4301e80a13e9b59859799ce",
     "grade": true,
     "grade_id": "cell-9fa6175b5c285154",
     "locked": true,
     "points": 0.5,
     "schema_version": 3,
     "solution": false,
     "task": false
    }
   },
   "outputs": [],
   "source": [
    "# AUTOGRADING NEGATION\n",
    "w = -z2\n",
    "v = -z4\n",
    "assert w.real == -3 and w.imag == 1\n",
    "assert v.real == 0 and v.imag == 4"
   ]
  },
  {
   "cell_type": "code",
   "execution_count": null,
   "metadata": {
    "deletable": false,
    "editable": false,
    "nbgrader": {
     "cell_type": "code",
     "checksum": "2e633edd4d52c766af69daeb97993627",
     "grade": true,
     "grade_id": "cell-b476d151791aef00",
     "locked": true,
     "points": 0.5,
     "schema_version": 3,
     "solution": false,
     "task": false
    }
   },
   "outputs": [],
   "source": [
    "# AUTOGRADING COMPLEX CONJUGATE\n",
    "w = z1.conjugate()\n",
    "v = z3.conjugate()\n",
    "x = z4.conjugate()\n",
    "assert w.real == 1 and w.imag == -2\n",
    "assert v.real == 5 and v.imag == 0\n",
    "assert x.real == 0 and x.imag == 4"
   ]
  },
  {
   "cell_type": "code",
   "execution_count": null,
   "metadata": {
    "deletable": false,
    "editable": false,
    "nbgrader": {
     "cell_type": "code",
     "checksum": "1723f27bc21901cbbc5adc2138f31525",
     "grade": true,
     "grade_id": "cell-345bc82304680267",
     "locked": true,
     "points": 0.5,
     "schema_version": 3,
     "solution": false,
     "task": false
    }
   },
   "outputs": [],
   "source": [
    "# AUTOGRADING MULTIPLICATION\n",
    "w = z1 * z2\n",
    "v = z3 * z4\n",
    "assert w.real == 5 and w.imag == 5\n",
    "assert v.real == 0 and v.imag == -20"
   ]
  },
  {
   "cell_type": "code",
   "execution_count": null,
   "metadata": {
    "deletable": false,
    "editable": false,
    "nbgrader": {
     "cell_type": "code",
     "checksum": "f482f1dd1a8051c3720bacac9f131e77",
     "grade": true,
     "grade_id": "cell-69e64404e6d70cd7",
     "locked": true,
     "points": 0.5,
     "schema_version": 3,
     "solution": false,
     "task": false
    }
   },
   "outputs": [],
   "source": [
    "# AUTOGRADING DIVISION\n",
    "w = z1 / z2\n",
    "v = z3 / z4\n",
    "assert w.real == 0.1 and w.imag == 0.7\n",
    "assert v.real == 0 and v.imag == 1.25"
   ]
  },
  {
   "cell_type": "code",
   "execution_count": null,
   "metadata": {
    "deletable": false,
    "editable": false,
    "nbgrader": {
     "cell_type": "code",
     "checksum": "fedf1989504e92972fa2eed60d4eedac",
     "grade": true,
     "grade_id": "cell-98a602de0e63b815",
     "locked": true,
     "points": 0.5,
     "schema_version": 3,
     "solution": false,
     "task": false
    }
   },
   "outputs": [],
   "source": [
    "# AUTOGRADING EQUALITY/INEQUALITY TESTING\n",
    "assert (z1 == z1) == True\n",
    "assert (z1 == z2) == False\n",
    "\n",
    "assert (z1 != z1) == False\n",
    "assert (z1 != z2) == True"
   ]
  },
  {
   "cell_type": "code",
   "execution_count": null,
   "metadata": {
    "deletable": false,
    "editable": false,
    "nbgrader": {
     "cell_type": "code",
     "checksum": "002a4fcb9790e34ba6e87ab95bb82ab8",
     "grade": true,
     "grade_id": "cell-c98ab8b8ebbf3255",
     "locked": true,
     "points": 0.5,
     "schema_version": 3,
     "solution": false,
     "task": false
    }
   },
   "outputs": [],
   "source": [
    "# AUTOGRADING ABSOLUTE VALUE\n",
    "import numpy as np\n",
    "np.testing.assert_almost_equal(abs(z1), 2.23606797749979)\n",
    "np.testing.assert_almost_equal(abs(z2), 3.1622776601683795)\n",
    "np.testing.assert_almost_equal(abs(z3), 5.0)"
   ]
  },
  {
   "cell_type": "code",
   "execution_count": null,
   "metadata": {
    "deletable": false,
    "editable": false,
    "nbgrader": {
     "cell_type": "code",
     "checksum": "fc0e3a42d72a6993b9b0b93ca52da4b1",
     "grade": true,
     "grade_id": "cell-0d88b95d2291d6da",
     "locked": true,
     "points": 0.5,
     "schema_version": 3,
     "solution": false,
     "task": false
    }
   },
   "outputs": [],
   "source": [
    "# AUTOGRADING PHASE\n",
    "np.testing.assert_almost_equal(z1.phase(), 1.1071487177940904)\n",
    "np.testing.assert_almost_equal(z2.phase(), -0.3217505543966422)\n",
    "np.testing.assert_almost_equal(z3.phase(), 0.0)\n",
    "np.testing.assert_almost_equal(z4.phase(), -1.5707963267948966)"
   ]
  },
  {
   "cell_type": "code",
   "execution_count": null,
   "metadata": {
    "deletable": false,
    "editable": false,
    "nbgrader": {
     "cell_type": "code",
     "checksum": "9c7c5728e306aa58b0496cf9d86124a3",
     "grade": true,
     "grade_id": "cell-59a0a33eecdadc04",
     "locked": true,
     "points": 0.5,
     "schema_version": 3,
     "solution": false,
     "task": false
    }
   },
   "outputs": [],
   "source": [
    "# AUTOGRADING POLAR COORDINATES\n",
    "np.testing.assert_almost_equal(z1.polar(), (2.23606797749979, 1.1071487177940904))\n",
    "np.testing.assert_almost_equal(z2.polar(), (3.1622776601683795, -0.3217505543966422))"
   ]
  },
  {
   "cell_type": "markdown",
   "metadata": {
    "deletable": false,
    "editable": false,
    "nbgrader": {
     "cell_type": "markdown",
     "checksum": "4c00c793bdb91441a339d5d3cadd34bf",
     "grade": false,
     "grade_id": "cell-e4c76e9517ec843f",
     "locked": true,
     "schema_version": 3,
     "solution": false,
     "task": false
    }
   },
   "source": [
    "## Problem 2: Determinant of complex-valued matrix. (1 point)\n",
    "\n",
    "Python already contains some built-in functionality to define complex numbers by adding the letter 'j'. The letter 'j' is used to denote the imaginary unit, instead of 'i', because Python follows engineering, where 'i' denotes the electric current. So one could define $2 + 3i$ in Python as `2 + 3j`. You can also use `complex(2,3)`, note the lowercase though!\n",
    "\n",
    "Problem: Compute the determinant of the following matrix:\n",
    "$$\\begin{bmatrix} 3 & 1-i & i & 4 \\\\\n",
    "3 & 1 & 1 - 2i & 4 + 7i \\\\\n",
    "6i & 2 + 2i & -2 & 3i \\\\\n",
    "-3 & -1 + i & 1 & 3 - 4i\\end{bmatrix},$$\n",
    "and assign it to the variable `D`. "
   ]
  },
  {
   "cell_type": "code",
   "execution_count": null,
   "metadata": {
    "deletable": false,
    "nbgrader": {
     "cell_type": "code",
     "checksum": "d107d71d3ea9fd003704691803a52fc4",
     "grade": false,
     "grade_id": "cell-aca7aaf0a04300b7",
     "locked": false,
     "schema_version": 3,
     "solution": true,
     "task": false
    }
   },
   "outputs": [],
   "source": [
    "import numpy as np\n",
    "import numpy.linalg as la\n",
    "\n",
    "# YOUR CODE HERE\n",
    "raise NotImplementedError()"
   ]
  },
  {
   "cell_type": "code",
   "execution_count": null,
   "metadata": {},
   "outputs": [],
   "source": [
    "# You can use this code cell to play around with your code to make sure\n",
    "# it does what it is intended to do, i.e. to debug your code. \n"
   ]
  },
  {
   "cell_type": "code",
   "execution_count": null,
   "metadata": {
    "deletable": false,
    "editable": false,
    "nbgrader": {
     "cell_type": "code",
     "checksum": "ee7c1f1c4a4f045ceee8c8855046b5d0",
     "grade": true,
     "grade_id": "cell-e9f577017cb5f023",
     "locked": true,
     "points": 1,
     "schema_version": 3,
     "solution": false,
     "task": false
    }
   },
   "outputs": [],
   "source": [
    "assert D == -15 - 15j"
   ]
  },
  {
   "cell_type": "markdown",
   "metadata": {},
   "source": [
    "## Mandelbrot Set\n",
    "\n",
    "The [Mandelbrot Set](https://en.wikipedia.org/wiki/Mandelbrot_set) is a well known and beautiful fractal. The Mandelbrot set broods in silent complexity at the center of the complex plane. When a certain operation is applied repeatedly to the numbers (see this operation below), the ones outside the set flee to infinity, whereas the numbers inside remain to drift or dance about. Close to the boundary minutely choreographed wanderings mark the onset of the instability. You should be astonished by its variety, complexity and strange beauty arising from the application of one simple rule.\n",
    "\n",
    "The basic idea behind the Mandelbrot set is that we represent each pixel in an image by a complex number $c = x + yi$. Now we will check for each point $c$ in the plane what happens if we keep iterating the computation\n",
    "\n",
    "$$z_{n+1} = z_n^2 + c,$$\n",
    "with $z_0 = 0$ and $c$ the points in the plane we are looking at.\n",
    "\n",
    "Two different things can happen. As the number of iterations advances, either $|z|$ diverges and tends to infinity, or it remains bounded. The Mandelbrot set is the collection of those points $c$ such that the orbit of $z = 0$ remains bounded under iteration of our quadratic map $z \\mapsto z^2 + c$. Since we cannot let our computer iterate an infinite number of times, typically you put a bound on how many times you do this calculation. Moreover, we will keep track of how fast $|z|$ goes to infinity, by checking how many steps it takes until $|z| > 2$. If $|z| > 2$, it so happens that $c$ is certainly not part of the Mandelbrot set. \n",
    "\n",
    "## Problem 3: Mandelbrot iterations (2 points)\n",
    "\n",
    "Implement the function `mandelbrot_iterations` below which computes the number of iterations needed for the recurrence $z_{n+1} = z_n^2 + c$ with $z_0 = 0$ to reach a value $z$ such that $|z| > 2$, or until the maximum number of iterations is reached. Use the built-in `complex` numbers, instead of our own class `Complex`. \n",
    "*Hint: to speed up your computations, instead of checking if $|z| > 2$, it's computationally easier to check $|z|^2 = Re(z)^2 + Im(z)^2 > 4$, because calculating a square root is computationally complex.*"
   ]
  },
  {
   "cell_type": "code",
   "execution_count": null,
   "metadata": {
    "deletable": false,
    "nbgrader": {
     "cell_type": "code",
     "checksum": "b93b3afb52e8fc1253e2ce94b50c4561",
     "grade": false,
     "grade_id": "cell-622829391040e617",
     "locked": false,
     "schema_version": 3,
     "solution": true,
     "task": false
    }
   },
   "outputs": [],
   "source": [
    "def mandelbrot_iterations(c, max_iterations):\n",
    "    \"\"\"\n",
    "    Return the number of iterations needed to reach a modulus strictly greater than 2. \n",
    "    If the number of iterations is greater than max_iterations, return max_iterations.\n",
    "    \n",
    "    Parameters\n",
    "    ----------\n",
    "        c (complex): Parameter of the formula z_{n+1} = z_n^2 + c\n",
    "        max_iterations (int): Upper bound for the number of iterations performed.\n",
    "            \n",
    "    Returns\n",
    "    -------\n",
    "        iteration (int): The number of iterations required to determine if the corresponding\n",
    "            point is not the Mandelbrot set. \n",
    "    \n",
    "    \"\"\"\n",
    "    \n",
    "    z = complex(0,0)\n",
    "    iteration = 0\n",
    "    \n",
    "    # YOUR CODE HERE\n",
    "    raise NotImplementedError()\n",
    "    \n",
    "    return(iteration)"
   ]
  },
  {
   "cell_type": "code",
   "execution_count": null,
   "metadata": {},
   "outputs": [],
   "source": [
    "# You can use this code cell to play around with your code to make sure\n",
    "# it does what it is intended to do, i.e. to debug your code. \n"
   ]
  },
  {
   "cell_type": "code",
   "execution_count": null,
   "metadata": {},
   "outputs": [],
   "source": [
    "# Test cases\n",
    "c1 = 0 + 0j\n",
    "c2 = 0.5 - 0.5j\n",
    "c3 = 3\n",
    "\n",
    "n1 = mandelbrot_iterations(c1, 100)\n",
    "n2 = mandelbrot_iterations(c2, 100)\n",
    "n3 = mandelbrot_iterations(c3, 100)\n",
    "\n",
    "print(\"For c1 = 0 it took\", n1, \"iterations\")\n",
    "print(\"For c2 = 0.5 - 0.5i it took\", n2, \"iterations\")\n",
    "print(\"For c2 = 3 it took\", n3, \"iterations\")"
   ]
  },
  {
   "cell_type": "markdown",
   "metadata": {
    "deletable": false,
    "editable": false,
    "nbgrader": {
     "cell_type": "markdown",
     "checksum": "d5973ae698f0c7a2f9a3ae17e580bffd",
     "grade": false,
     "grade_id": "cell-cf1882dcd0154549",
     "locked": true,
     "schema_version": 3,
     "solution": false,
     "task": false
    }
   },
   "source": [
    "Expected output:\n",
    "\n",
    "    For c1 = 0 it took 100 iterations\n",
    "    For c2 = 0.5 - 0.5i it took 5 iterations\n",
    "    For c2 = 3 it took 1 iterations"
   ]
  },
  {
   "cell_type": "code",
   "execution_count": null,
   "metadata": {
    "deletable": false,
    "editable": false,
    "nbgrader": {
     "cell_type": "code",
     "checksum": "7553a3972323a2bdc61ab34ec2a7f947",
     "grade": true,
     "grade_id": "cell-c5936d69ea5a7098",
     "locked": true,
     "points": 2,
     "schema_version": 3,
     "solution": false,
     "task": false
    }
   },
   "outputs": [],
   "source": [
    "# AUTOGRADING\n",
    "c1 = 0 + 0j\n",
    "c2 = 0.5 - 0.5j\n",
    "c3 = 3\n",
    "\n",
    "n1 = mandelbrot_iterations(c1, 100)\n",
    "n2 = mandelbrot_iterations(c2, 100)\n",
    "n3 = mandelbrot_iterations(c3, 100)\n",
    "\n",
    "assert n1 == 100\n",
    "assert n2 == 5\n",
    "assert n3 == 1"
   ]
  },
  {
   "cell_type": "markdown",
   "metadata": {
    "deletable": false,
    "editable": false,
    "nbgrader": {
     "cell_type": "markdown",
     "checksum": "d0751aef32ac49dc5903e0a8dcf45985",
     "grade": false,
     "grade_id": "cell-af4686b99d8cea95",
     "locked": true,
     "schema_version": 3,
     "solution": false,
     "task": false
    }
   },
   "source": [
    "## Problem 4: Mandelbrot image (1 point)\n",
    "\n",
    "Implement the function `mandelbrot_image`. "
   ]
  },
  {
   "cell_type": "code",
   "execution_count": null,
   "metadata": {
    "deletable": false,
    "nbgrader": {
     "cell_type": "code",
     "checksum": "a4cbf9edd116fa12da8e0a831419d142",
     "grade": false,
     "grade_id": "cell-f6705f8236bf1330",
     "locked": false,
     "schema_version": 3,
     "solution": true,
     "task": false
    }
   },
   "outputs": [],
   "source": [
    "import numpy as np\n",
    "\n",
    "def mandelbrot_image(height, width, c1, c2, max_iterations):\n",
    "    \"\"\"\n",
    "    Computea an array of shape (height, width) containing the \n",
    "    number of mandelbrot iterations for equally spaced complex number in a \n",
    "    rectangle whose top left corner is represented by the complex number c1\n",
    "    and whose bottom right corner is represeneted by the complex number c2.\n",
    "    \n",
    "    Parameters\n",
    "    ----------\n",
    "        height (int): the vertical number of pixels\n",
    "        width (int): the horizontal number of pixels \n",
    "        c1 (complex): complex number representing top left corner\n",
    "        c2 (complex): complex number representing bottom right corner\n",
    "        max_iterations (int): upper bound for the number of iterations performed.\n",
    "    \n",
    "    \n",
    "    Returns\n",
    "    -------\n",
    "        mandelbrot_array (ndarray): array of shape (height, width) containing at \n",
    "            entry [i,j] the number of mandelbrot iterations for the complex number\n",
    "            c with c.real = c1.real - j * (c1.real - c2.real) / (width - 1)\n",
    "            and c.imag = c1.imag - i * (c1.imag - c2.imag) / (height - 1). \n",
    "            So the entry at [0,0] corresponds to mandelbrot_iterations(c1, max_iterations)\n",
    "            and at [height-1, width-1] is mandelbrot_iterations(c2, max_iterations).\n",
    "        \n",
    "    \"\"\"\n",
    "    \n",
    "    mandelbrot_array = np.zeros((height, width))\n",
    "    \n",
    "    # YOUR CODE HERE\n",
    "    raise NotImplementedError()\n",
    "    \n",
    "    return(mandelbrot_array)"
   ]
  },
  {
   "cell_type": "code",
   "execution_count": null,
   "metadata": {},
   "outputs": [],
   "source": [
    "# You can use this code cell to play around with your code to make sure\n",
    "# it does what it is intended to do, i.e. to debug your code. \n"
   ]
  },
  {
   "cell_type": "code",
   "execution_count": null,
   "metadata": {},
   "outputs": [],
   "source": [
    "# Quick rendering to check your code.\n",
    "import matplotlib.pyplot as plt\n",
    "x = mandelbrot_image(200, 300, complex(-2, 1), complex(1, -1), 100)\n",
    "plt.rcParams[\"figure.figsize\"]=12,8\n",
    "plt.imshow(x, cmap=\"magma\")"
   ]
  },
  {
   "cell_type": "code",
   "execution_count": null,
   "metadata": {
    "deletable": false,
    "editable": false,
    "nbgrader": {
     "cell_type": "code",
     "checksum": "dbe1b3467abce2c62ae0b789310b49dc",
     "grade": true,
     "grade_id": "cell-0a806f6656d77685",
     "locked": true,
     "points": 1,
     "schema_version": 3,
     "solution": false,
     "task": false
    }
   },
   "outputs": [],
   "source": [
    "# AUTOGRADING\n",
    "x = mandelbrot_image(200, 300, complex(-2, 1), complex(1, -1), 50)\n",
    "assert np.allclose(x[35:40, 140:145], np.array([[13, 17, 28, 26, 40],\n",
    "                                                [13, 17, 24, 50, 31],\n",
    "                                                [19, 37, 36, 22, 34],\n",
    "                                                [27, 21, 17, 19, 30],\n",
    "                                                [15, 15, 15, 26, 28]]))"
   ]
  },
  {
   "cell_type": "markdown",
   "metadata": {
    "deletable": false,
    "editable": false,
    "nbgrader": {
     "cell_type": "markdown",
     "checksum": "ed4437a2d3fd09ff75fd7d2e2506b93a",
     "grade": false,
     "grade_id": "cell-8dc4bd39caaaa3d9",
     "locked": true,
     "schema_version": 3,
     "solution": false,
     "task": false
    }
   },
   "source": [
    "## Extra: Zooming in on the Mandelbrot set\n",
    "\n",
    "In the cells below, we create a couple of renderings of the Mandelbrot set, where we have zoomed in on specific regions. You can play around with it as you like (some images might take a while to render, especially if you'd like them at a higher resolution and using a higher max_iterations). "
   ]
  },
  {
   "cell_type": "code",
   "execution_count": null,
   "metadata": {},
   "outputs": [],
   "source": [
    "import matplotlib.pyplot as plt\n",
    "x = mandelbrot_image(400, 600, complex(-2, 1), complex(1,-1), 100)\n",
    "\n",
    "plt.rcParams[\"figure.figsize\"]=12,8\n",
    "plt.imshow(x, cmap=\"magma\")"
   ]
  },
  {
   "cell_type": "code",
   "execution_count": null,
   "metadata": {},
   "outputs": [],
   "source": [
    "y = mandelbrot_image(400, 600, complex(-1.2, 0.4), complex(-0.6,0), 100)\n",
    "\n",
    "plt.rcParams[\"figure.figsize\"]=12,8\n",
    "plt.imshow(y, cmap=\"magma\")"
   ]
  },
  {
   "cell_type": "code",
   "execution_count": null,
   "metadata": {},
   "outputs": [],
   "source": [
    "z = mandelbrot_image(400, 600, complex(-0.77, 0.1), complex(-0.74,0.08), 200)\n",
    "\n",
    "plt.rcParams[\"figure.figsize\"]=12,8\n",
    "plt.imshow(z, cmap=\"magma\")"
   ]
  },
  {
   "cell_type": "code",
   "execution_count": null,
   "metadata": {},
   "outputs": [],
   "source": [
    "# you can change the size of the image and the max_iterations\n",
    "# to make it look nicer\n",
    "z2 = mandelbrot_image(400, 600, complex(-0.75, 0.097), complex(-0.744,0.093), 200)\n",
    "\n",
    "plt.rcParams[\"figure.figsize\"]=12,8\n",
    "plt.imshow(z2, cmap=\"magma\")"
   ]
  }
 ],
 "metadata": {
  "kernelspec": {
   "display_name": "Python 3 (ipykernel)",
   "language": "python",
   "name": "python3"
  },
  "language_info": {
   "codemirror_mode": {
    "name": "ipython",
    "version": 3
   },
   "file_extension": ".py",
   "mimetype": "text/x-python",
   "name": "python",
   "nbconvert_exporter": "python",
   "pygments_lexer": "ipython3",
   "version": "3.8.11"
  }
 },
 "nbformat": 4,
 "nbformat_minor": 4
}
